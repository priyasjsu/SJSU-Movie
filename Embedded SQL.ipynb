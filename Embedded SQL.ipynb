{
 "cells": [
  {
   "cell_type": "raw",
   "metadata": {},
   "source": [
    "https://realpython.com/python-mysql/"
   ]
  },
  {
   "cell_type": "code",
   "execution_count": 17,
   "metadata": {},
   "outputs": [],
   "source": [
    "#pip install mysql-connector-python;\n",
    "#pip install mysql-connector;"
   ]
  },
  {
   "cell_type": "code",
   "execution_count": 18,
   "metadata": {},
   "outputs": [],
   "source": [
    "import pandas as pd;\n",
    "movies = pd.read_csv('./IMDB-Movie-Data.csv');\n",
    "movies.head(5);\n",
    "movies.describe();"
   ]
  },
  {
   "cell_type": "code",
   "execution_count": 1,
   "metadata": {},
   "outputs": [],
   "source": [
    "import mysql.connector"
   ]
  },
  {
   "cell_type": "code",
   "execution_count": 2,
   "metadata": {},
   "outputs": [
    {
     "name": "stdout",
     "output_type": "stream",
     "text": [
      "2003: Can't connect to MySQL server on 'db225.c6agbyqph65a.us-east-1.rds.amazonaws.com:3306' (60 Operation timed out)\n"
     ]
    }
   ],
   "source": [
    "from getpass import getpass\n",
    "from mysql.connector import connect, Error\n",
    "try:\n",
    "    with connect(host=\"db225.c6agbyqph65a.us-east-1.rds.amazonaws.com\",\n",
    "        user=\"admin\",\n",
    "        password=\"Alwaysschool1!\",\n",
    "    ) as connection:\n",
    "        show_db_query = \"SHOW DATABASES\"\n",
    "        with connection.cursor() as cursor:\n",
    "            cursor.execute(show_db_query)\n",
    "            for db in cursor:\n",
    "                print(db)\n",
    "except Error as e:\n",
    "    print(e)"
   ]
  },
  {
   "cell_type": "code",
   "execution_count": 3,
   "metadata": {},
   "outputs": [],
   "source": [
    "import pandas as pd;\n",
    "movies = pd.read_csv('./IMDB-Movie-Data.csv');\n",
    "movies.head(5);\n",
    "movies.describe();\n",
    "# try:\n",
    "#     with connect(host=\"smd-1.cr5zcfvn0ztg.us-east-1.rds.amazonaws.com\",\n",
    "#         user=\"admin\",\n",
    "#         password=\"admin123\",\n",
    "#     ) as connection:\n",
    "#         for i in range(movies.len()):\n",
    "#             show_db_query = \"Insert\"+value\n",
    "#             with connection.cursor() as cursor:\n",
    "#                 cursor.execute(show_db_query)\n",
    "#                 for db in cursor:\n",
    "#                     print(db)\n",
    "# except Error as e:\n",
    "#     print(e)"
   ]
  },
  {
   "cell_type": "code",
   "execution_count": null,
   "metadata": {},
   "outputs": [],
   "source": [
    "from getpass import getpass\n",
    "from mysql.connector import connect, Error\n",
    "\n",
    "try:\n",
    "    with connect(host=\"localhost\",user=input(\"Enter username: \"),password=getpass(\"Enter password: \"),database=\"online_movie_rating\"\n",
    "    ) as connection:\n",
    "        create_states_table_query = \"CREATE TABLE states(id INT AUTO_INCREMENT PRIMARY KEY,State VARCHAR(100))\"\n",
    "        with connection.cursor() as cursor:\n",
    "            cursor.execute(create_states_table_query)\n",
    "            connection.commit()\n",
    "except Error as e:\n",
    "    print(e)"
   ]
  },
  {
   "cell_type": "code",
   "execution_count": 13,
   "metadata": {},
   "outputs": [
    {
     "name": "stdout",
     "output_type": "stream",
     "text": [
      "Enter username: root\n",
      "Enter password: ········\n",
      "('id', b'int', 'NO', 'PRI', None, 'auto_increment')\n",
      "('State', b'varchar(100)', 'YES', '', None, '')\n"
     ]
    }
   ],
   "source": [
    "from getpass import getpass\n",
    "from mysql.connector import connect, Error\n",
    "\n",
    "try:\n",
    "    with connect(host=\"localhost\",user=input(\"Enter username: \"),password=getpass(\"Enter password: \"),database=\"online_movie_rating\"\n",
    "    ) as connection:\n",
    "        show_table_query = \"DESCRIBE states\"\n",
    "        with connection.cursor() as cursor:\n",
    "            cursor.execute(show_table_query)\n",
    "            result = cursor.fetchall()\n",
    "            for row in result:\n",
    "                print(row)\n",
    "except Error as e:\n",
    "    print(e)"
   ]
  },
  {
   "cell_type": "code",
   "execution_count": null,
   "metadata": {},
   "outputs": [],
   "source": []
  }
 ],
 "metadata": {
  "kernelspec": {
   "display_name": "Python 3 (ipykernel)",
   "language": "python",
   "name": "python3"
  },
  "language_info": {
   "codemirror_mode": {
    "name": "ipython",
    "version": 3
   },
   "file_extension": ".py",
   "mimetype": "text/x-python",
   "name": "python",
   "nbconvert_exporter": "python",
   "pygments_lexer": "ipython3",
   "version": "3.7.10"
  }
 },
 "nbformat": 4,
 "nbformat_minor": 4
}
